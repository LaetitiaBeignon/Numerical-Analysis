{
  "nbformat": 4,
  "nbformat_minor": 0,
  "metadata": {
    "colab": {
      "name": "lab4_Task1.ipynb",
      "provenance": [],
      "authorship_tag": "ABX9TyPqzTUhtLRAgxiy38sbEl88",
      "include_colab_link": true
    },
    "kernelspec": {
      "name": "python3",
      "display_name": "Python 3"
    }
  },
  "cells": [
    {
      "cell_type": "markdown",
      "metadata": {
        "id": "view-in-github",
        "colab_type": "text"
      },
      "source": [
        "<a href=\"https://colab.research.google.com/github/LaetitiaBeignon/Numerical-Analysis/blob/master/Lab4_Task1.ipynb\" target=\"_parent\"><img src=\"https://colab.research.google.com/assets/colab-badge.svg\" alt=\"Open In Colab\"/></a>"
      ]
    },
    {
      "cell_type": "code",
      "metadata": {
        "id": "MnxD53E6Q81J",
        "colab_type": "code",
        "colab": {
          "base_uri": "https://localhost:8080/",
          "height": 191
        },
        "outputId": "1dd2a058-3d8c-4ebf-f04d-e0a22737eabd"
      },
      "source": [
        "#Fixed point iteration Method\n",
        "\n",
        "import math\n",
        "\n",
        "S=8 #we want to approximate sqrt(8)\n",
        "\n",
        "def f(x) :\n",
        "  return x*x-S\n",
        "\n",
        "def g(x):\n",
        "  return (1/2)*(x+S/x)\n",
        "\n",
        "#Implementing fixed point method\n",
        "\n",
        "def fixedPointIteration(x0, e,ex, N):\n",
        "  print('\\n\\n*** FIXED POINT ITERATION ***')\n",
        "  step=1\n",
        "  condition=True\n",
        "  while condition:\n",
        "    x1=g(x0)\n",
        "    xhelp=x1-x0\n",
        "    print('Iteration-%d, x1 = %0.6f and f(x1)= %0.6f' %(step, x1, f(x1)))\n",
        "    x0=x1\n",
        "\n",
        "    step=step+1\n",
        "\n",
        "    condition1 = abs(f(x1))>e\n",
        "    condition2 = step<N\n",
        "    condition3 = abs(xhelp)>ex\n",
        "    condition = condition1 and condition2 and condition3\n",
        "\n",
        "\n",
        "#Input section \n",
        "x0 = input('Enter Guess:')\n",
        "e= input('Tolerable error:')\n",
        "N= input('Maximum Step:')\n",
        "ex= input('Second tolerable error:')\n",
        "  \n",
        "#Converting x0 and e to float\n",
        "x0=float(x0)\n",
        "e=float(e)\n",
        "ex=float(ex)\n",
        "\n",
        "#Converting N to integer\n",
        "N= int(N)\n",
        "\n",
        "#Starting fixed point iteration\n",
        "fixedPointIteration(x0,e, ex,N)\n"
      ],
      "execution_count": 5,
      "outputs": [
        {
          "output_type": "stream",
          "text": [
            "Enter Guess:3\n",
            "Tolerable error:0.00001\n",
            "Maximum Step:5\n",
            "Second tolerable error:0.00001\n",
            "\n",
            "\n",
            "*** FIXED POINT ITERATION ***\n",
            "Iteration-1, x1 = 2.833333 and f(x1)= 0.027778\n",
            "Iteration-2, x1 = 2.828431 and f(x1)= 0.000024\n",
            "Iteration-3, x1 = 2.828427 and f(x1)= 0.000000\n"
          ],
          "name": "stdout"
        }
      ]
    },
    {
      "cell_type": "code",
      "metadata": {
        "id": "jGYdqAKhZJtV",
        "colab_type": "code",
        "colab": {
          "base_uri": "https://localhost:8080/",
          "height": 243
        },
        "outputId": "a17d2711-bc11-476a-fbcf-6ce2b24c5401"
      },
      "source": [
        "# Bisection Method\n",
        "\n",
        "# Defining Function\n",
        "def f(x):\n",
        "  return x**3-5*x-9\n",
        "\n",
        "# Implementing Bisection Method\n",
        "def bisection(x0,x1, ex, e):\n",
        "  step = 1\n",
        "  print('\\n\\n*** BISECTION METHOD IMPLEMENTATION ***')\n",
        "  condition = True\n",
        "  while condition:\n",
        "    x2 = (x0 + x1)/2\n",
        "    xhelp = (x1-x0)/2\n",
        "    print('Iteration-%d, x2 = %0.6f and f(x2) = %0.6f' % (step, x2, f(x2)))\n",
        "\n",
        "    if f(x0) * f(x2) < 0:\n",
        "      x1 = x2\n",
        "    else:\n",
        "      x0 = x2\n",
        "\n",
        "    step = step + 1\n",
        "    condition1 = abs(f(x2)) > e\n",
        "    condition2 = abs(xhelp)>ex\n",
        "    condition3 = step<N\n",
        "    condition = condition1 and condition2 and condition3\n",
        "\n",
        "  print('\\nRequired Root is : %0.8f' % x2)\n",
        "\n",
        "# Input Section\n",
        "x0 = input('First Guess: ')\n",
        "x1 = input('Second Guess: ')\n",
        "e = input('Tolerable Error: ')\n",
        "ex= input('Second tolerable Error: ')\n",
        "\n",
        "# Converting input to float\n",
        "x0 = float(x0)\n",
        "x1 = float(x1)\n",
        "e = float(e)\n",
        "ex = float(ex)\n",
        "\n",
        "if f(x0) * f(x1) > 0.0:\n",
        "  print('Given guess values do not bracket the root.')\n",
        "  print('Try Again with different guess values.')\n",
        "else:\n",
        "  bisection(x0,x1, ex, e)"
      ],
      "execution_count": 7,
      "outputs": [
        {
          "output_type": "stream",
          "text": [
            "First Guess: 2\n",
            "Second Guess: 6\n",
            "Tolerable Error: 0.00001\n",
            "Second tolerable Error: 0.00001\n",
            "\n",
            "\n",
            "*** BISECTION METHOD IMPLEMENTATION ***\n",
            "Iteration-1, x2 = 4.000000 and f(x2) = 35.000000\n",
            "Iteration-2, x2 = 3.000000 and f(x2) = 3.000000\n",
            "Iteration-3, x2 = 2.500000 and f(x2) = -5.875000\n",
            "Iteration-4, x2 = 2.750000 and f(x2) = -1.953125\n",
            "\n",
            "Required Root is : 2.75000000\n"
          ],
          "name": "stdout"
        }
      ]
    },
    {
      "cell_type": "code",
      "metadata": {
        "id": "vetEH7ZGb2Np",
        "colab_type": "code",
        "colab": {
          "base_uri": "https://localhost:8080/",
          "height": 243
        },
        "outputId": "aedaa1d2-e475-4f52-dc2f-d525bbcda3f8"
      },
      "source": [
        "#Newton Method\n",
        "\n",
        "# Defining Function\n",
        "def f(x):\n",
        "  return x**3 - 5*x - 9\n",
        "\n",
        "# Defining derivative of function\n",
        "def g(x):\n",
        "  return 3*x**2 - 5\n",
        "\n",
        "# Implementing Newton Method\n",
        "def newton(x0,e, ex, N):\n",
        "  print('\\n\\n*** NEWTON METHOD IMPLEMENTATION ***')\n",
        "  step = 1\n",
        "  flag = 1\n",
        "  condition = True\n",
        "  while condition:\n",
        "    if g(x0) == 0.0:\n",
        "      print('Divide by zero error!')\n",
        "      break\n",
        "    x1 = x0 - f(x0)/g(x0)\n",
        "    xhelp=x1-x0\n",
        "    print('Iteration-%d, x1 = %0.6f and f(x1) = %0.6f' % (step, x1, f(x1)))\n",
        "    x0 = x1\n",
        "    step = step + 1\n",
        "    if step > N:\n",
        "      flag = 0\n",
        "      break\n",
        "\n",
        "    condition1 = abs(f(x1))>e\n",
        "    condition2 = step<N\n",
        "    condition3 = abs(xhelp)>ex\n",
        "    condition = condition1 and condition2 and condition3\n",
        "    \n",
        "  if flag==1:\n",
        "    print('\\nRequired root is: %0.8f' % x1)\n",
        "  else:\n",
        "    print('\\nNot Convergent.')\n",
        "\n",
        "# Input Section\n",
        "x0 = input('Enter Guess: ')\n",
        "e = input('Tolerable Error: ')\n",
        "N = input('Maximum Step: ')\n",
        "ex= input('Second tolerable error:')\n",
        "\n",
        "# Converting x0 and e to float\n",
        "x0 = float(x0)\n",
        "e = float(e)\n",
        "ex=float(ex)\n",
        "\n",
        "# Converting N to integer\n",
        "N = int(N)\n",
        "\n",
        "# Starting Newton Method\n",
        "newton(x0, e, ex, N)"
      ],
      "execution_count": 8,
      "outputs": [
        {
          "output_type": "stream",
          "text": [
            "Enter Guess: 4\n",
            "Tolerable Error: 0.00001\n",
            "Maximum Step: 5\n",
            "Second tolerable error:0.00001\n",
            "\n",
            "\n",
            "*** NEWTON METHOD IMPLEMENTATION ***\n",
            "Iteration-1, x1 = 3.186047 and f(x1) = 7.410983\n",
            "Iteration-2, x1 = 2.894879 and f(x1) = 0.785638\n",
            "Iteration-3, x1 = 2.855872 and f(x1) = 0.013155\n",
            "Iteration-4, x1 = 2.855197 and f(x1) = 0.000004\n",
            "\n",
            "Required root is: 2.85519674\n"
          ],
          "name": "stdout"
        }
      ]
    },
    {
      "cell_type": "code",
      "metadata": {
        "id": "rwtjpgwXdu6j",
        "colab_type": "code",
        "colab": {
          "base_uri": "https://localhost:8080/",
          "height": 278
        },
        "outputId": "c486c3f8-7ed7-4f93-f0b9-575abd94d8f2"
      },
      "source": [
        "# Defining Function\n",
        "def f(x):\n",
        "  return x**3 - 5*x - 9\n",
        "\n",
        "# Implementing Secant Method\n",
        "def secant(x0,x1,e, ex, N):\n",
        "  print('\\n\\n*** SECANT METHOD IMPLEMENTATION ***')\n",
        "  step = 1\n",
        "  condition = True\n",
        "  while condition:\n",
        "    if f(x0) == f(x1):\n",
        "      print('Divide by zero error!')\n",
        "      break\n",
        "    x2 = x0 - (x1-x0)*f(x0)/( f(x1) - f(x0) )\n",
        "    xhelp = x2-x1\n",
        "    print('Iteration-%d, x2 = %0.6f and f(x2) = %0.6f' % (step, x2, f(x2)))\n",
        "    x0 = x1\n",
        "    x1 = x2\n",
        "    step = step + 1\n",
        "    if step > N:\n",
        "      print('Not Convergent!')\n",
        "      break\n",
        "\n",
        "    condition1 = abs(f(x2))>e\n",
        "    condition2 = step<N\n",
        "    condition3 = abs(xhelp)>ex\n",
        "    condition = condition1 and condition2 and condition3\n",
        "   \n",
        "  print('\\n Required root is: %0.8f' % x2)\n",
        "\n",
        "# Input Section\n",
        "x0 = input('Enter First Guess: ')\n",
        "x1 = input('Enter Second Guess: ')\n",
        "e = input('Tolerable Error: ')\n",
        "ex = input('Second Tolerable Error:')\n",
        "N = input('Maximum Step: ')\n",
        "\n",
        "# Converting x0 and e to float\n",
        "x0 = float(x0)\n",
        "x1 = float(x1)\n",
        "e = float(e)\n",
        "ex = float(ex)\n",
        "\n",
        "# Converting N to integer\n",
        "N = int(N)\n",
        "\n",
        "# Starting Secant Method\n",
        "secant(x0,x1,e, ex, N)"
      ],
      "execution_count": 9,
      "outputs": [
        {
          "output_type": "stream",
          "text": [
            "Enter First Guess: 5\n",
            "Enter Second Guess: 9\n",
            "Tolerable Error: 0.000001\n",
            "Second Tolerable Error:0.000001\n",
            "Maximum Step: 6\n",
            "\n",
            "\n",
            "*** SECANT METHOD IMPLEMENTATION ***\n",
            "Iteration-1, x2 = 4.376712 and f(x2) = 52.955036\n",
            "Iteration-2, x2 = 3.983129 and f(x2) = 34.277969\n",
            "Iteration-3, x2 = 3.260787 and f(x2) = 9.367149\n",
            "Iteration-4, x2 = 2.989167 and f(x2) = 2.762731\n",
            "Iteration-5, x2 = 2.875544 and f(x2) = 0.399446\n",
            "\n",
            " Required root is: 2.87554410\n"
          ],
          "name": "stdout"
        }
      ]
    }
  ]
}