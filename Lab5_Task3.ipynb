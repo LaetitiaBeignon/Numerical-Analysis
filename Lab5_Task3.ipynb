{
  "nbformat": 4,
  "nbformat_minor": 0,
  "metadata": {
    "colab": {
      "name": "Lab5_Task3.ipynb",
      "provenance": [],
      "authorship_tag": "ABX9TyO9XE7VwvSvUbCe0e6c1axq",
      "include_colab_link": true
    },
    "kernelspec": {
      "name": "python3",
      "display_name": "Python 3"
    }
  },
  "cells": [
    {
      "cell_type": "markdown",
      "metadata": {
        "id": "view-in-github",
        "colab_type": "text"
      },
      "source": [
        "<a href=\"https://colab.research.google.com/github/LaetitiaBeignon/Numerical-Analysis/blob/master/Lab5_Task3.ipynb\" target=\"_parent\"><img src=\"https://colab.research.google.com/assets/colab-badge.svg\" alt=\"Open In Colab\"/></a>"
      ]
    },
    {
      "cell_type": "code",
      "metadata": {
        "id": "vKPFSHWcDltr",
        "colab_type": "code",
        "outputId": "e6fd380d-8d57-4925-f980-e0fb582a4391",
        "colab": {
          "base_uri": "https://localhost:8080/",
          "height": 173
        }
      },
      "source": [
        "import numpy as np\n",
        "\n",
        "def jacobian_example(xyz):\n",
        "    x, y, z = xyz\n",
        "    return [[2*x, 2*y, 2*z],\n",
        "            [2*x, 2*y, 0],\n",
        "            [2*x, -1, 0]]\n",
        "\n",
        "def function_example(xyz):\n",
        "    x, y, z = xyz\n",
        "    return [x**2 + y**2 + z**2 -2, x**2 + y**2 - 1, x**2-y]\n",
        "\n",
        "# iterative Newton's method\n",
        "def iterative_newton(fun, x_init, jacobian):\n",
        "    max_iter = 50\n",
        "    epsilon = 1e-8\n",
        "\n",
        "    x_last = x_init\n",
        "\n",
        "    for k in range(max_iter):\n",
        "        # Solve J(xn)*( xn+1 - xn ) = -F(xn):\n",
        "        J = np.array(jacobian(x_last))\n",
        "        F = np.array(fun(x_last))\n",
        "\n",
        "\n",
        "        # inverted Jacobian\n",
        "        Jinv = np.linalg.inv(J)\n",
        "        #  x(n+1) = x(n) − J^(−1)(x(n))*F(x(n)).\n",
        "        #  np.dot - array/vector multiplication\n",
        "        diff = np.dot(Jinv,F)\n",
        "        x_last = x_last - diff\n",
        "        \n",
        "        print(x_last)        \n",
        "\n",
        "        # Stop condition:\n",
        "        if np.linalg.norm(diff) < epsilon:\n",
        "            print('convergence!, nre iter:', k )\n",
        "            break\n",
        "\n",
        "    else: # only if the for loop end 'naturally'\n",
        "        print('not converged')\n",
        "\n",
        "    return x_last\n",
        "\n",
        "x_sol = iterative_newton(function_example, [1.0,2.0,1.0], jacobian_example)\n",
        "print('solution example:', x_sol )\n",
        "print( function_example(x_sol) )"
      ],
      "execution_count": 1,
      "outputs": [
        {
          "output_type": "stream",
          "text": [
            "[1. 1. 1.]\n",
            "[0.83333333 0.66666667 1.        ]\n",
            "[0.78809524 0.61904762 1.        ]\n",
            "[0.78615407 0.61803445 1.        ]\n",
            "[0.78615138 0.61803399 1.        ]\n",
            "[0.78615138 0.61803399 1.        ]\n",
            "convergence!, nre iter: 5\n",
            "solution example: [0.78615138 0.61803399 1.        ]\n",
            "[4.440892098500626e-16, -1.1102230246251565e-16, 0.0]\n"
          ],
          "name": "stdout"
        }
      ]
    }
  ]
}