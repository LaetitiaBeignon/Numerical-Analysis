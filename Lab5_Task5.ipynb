{
  "nbformat": 4,
  "nbformat_minor": 0,
  "metadata": {
    "colab": {
      "name": "Untitled2.ipynb",
      "provenance": [],
      "authorship_tag": "ABX9TyM6L//Qwc86XRRyGvfbTioD",
      "include_colab_link": true
    },
    "kernelspec": {
      "name": "python3",
      "display_name": "Python 3"
    }
  },
  "cells": [
    {
      "cell_type": "markdown",
      "metadata": {
        "id": "view-in-github",
        "colab_type": "text"
      },
      "source": [
        "<a href=\"https://colab.research.google.com/github/LaetitiaBeignon/Numerical-Analysis/blob/master/Lab5_Task5.ipynb\" target=\"_parent\"><img src=\"https://colab.research.google.com/assets/colab-badge.svg\" alt=\"Open In Colab\"/></a>"
      ]
    },
    {
      "cell_type": "code",
      "metadata": {
        "id": "d6oqgMwyQ2uA",
        "colab_type": "code",
        "colab": {
          "base_uri": "https://localhost:8080/",
          "height": 139
        },
        "outputId": "5df14002-224e-4bb9-80b1-b40c2aa174cb"
      },
      "source": [
        "import numpy as np\n",
        "\n",
        "#Aitken’s acceleration many dimension\n",
        "\n",
        "def function_slow(xy):\n",
        "  x, y = xy\n",
        "  return [x**2 + y**2 - 0.0000000000001, x + y ]\n",
        "\n",
        "def diffvect(a,b):\n",
        "  return [a_elt - b_elt for a_elt, b_elt in zip(a, b)]\n",
        "\n",
        "def addvect(a,b):\n",
        "  return [a_elt + b_elt for a_elt, b_elt in zip(a, b)]\n",
        "\n",
        "def aitken(function, x_init):\n",
        "  max_iter = 50\n",
        "  epsilon = 1e-8\n",
        "\n",
        "  step=0\n",
        "\n",
        "  compt = 0\n",
        "\n",
        "  sol = [x_init]\n",
        "\n",
        "  for k in range(max_iter) :\n",
        "    if compt==2 :\n",
        "      x1= diffvect(sol[-3], np.divide(np.dot(diffvect(sol[-2],sol[-3]),diffvect(sol[-2],sol[-3])), addvect(diffvect(sol[-1],2*sol[-2]),sol[-3])))\n",
        "      print(x1)\n",
        "      xhelp = diffvect(x1,x_init)\n",
        "      sol.append(x1)\n",
        "      x_init=x1\n",
        "      compt=0\n",
        "    else :\n",
        "      x1 = function(x_init)\n",
        "      print(x1)\n",
        "      xhelp = diffvect(x1,x_init)\n",
        "      sol.append(x1)\n",
        "      x_init=x1\n",
        "      compt = compt+1\n",
        "    \n",
        "    if xhelp[0] < epsilon and xhelp[1] < epsilon:\n",
        "       print('convergence!, nre iter:', k )\n",
        "       break\n",
        "\n",
        "  else: # only if the for loop end 'naturally'\n",
        "    print('not converged')\n",
        "\n",
        "  return x1\n",
        "  \n",
        "    \n",
        "x_sol = aitken(function_slow, [2.0,1.0])\n",
        "print('solution slow:', x_sol )\n",
        "print('F(sol)', function_slow(x_sol) )\n",
        "print(\" \")"
      ],
      "execution_count": 1,
      "outputs": [
        {
          "output_type": "stream",
          "text": [
            "[4.9999999999999, 3.0]\n",
            "[33.9999999999989, 7.9999999999999]\n",
            "[1.5806451612903285, -1.1666666666666026]\n",
            "convergence!, nre iter: 2\n",
            "solution slow: [1.5806451612903285, -1.1666666666666026]\n",
            "F(sol) [3.85955023702139, 0.41397849462372593]\n",
            " \n"
          ],
          "name": "stdout"
        }
      ]
    }
  ]
}