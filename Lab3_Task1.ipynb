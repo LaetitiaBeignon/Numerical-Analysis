{
  "nbformat": 4,
  "nbformat_minor": 0,
  "metadata": {
    "colab": {
      "name": "Lab3 -Task1.ipynb",
      "provenance": [],
      "authorship_tag": "ABX9TyNnVSmvSPhI02Ufntfy8A63",
      "include_colab_link": true
    },
    "kernelspec": {
      "name": "python3",
      "display_name": "Python 3"
    }
  },
  "cells": [
    {
      "cell_type": "markdown",
      "metadata": {
        "id": "view-in-github",
        "colab_type": "text"
      },
      "source": [
        "<a href=\"https://colab.research.google.com/github/LaetitiaBeignon/Numerical-Analysis/blob/master/Lab3_Task1.ipynb\" target=\"_parent\"><img src=\"https://colab.research.google.com/assets/colab-badge.svg\" alt=\"Open In Colab\"/></a>"
      ]
    },
    {
      "cell_type": "code",
      "metadata": {
        "id": "wzvjyjoouzY_",
        "colab_type": "code",
        "colab": {
          "base_uri": "https://localhost:8080/",
          "height": 208
        },
        "outputId": "f4b9d7de-a103-48c5-9ba5-af3bffb527fe"
      },
      "source": [
        "#Fixed point iteration Method\n",
        "\n",
        "import math\n",
        "\n",
        "\n",
        "S=8 #we want to approximate sqrt(8)\n",
        "\n",
        "\n",
        "def f(x) :\n",
        "  return x*x-S\n",
        "\n",
        "def g(x):\n",
        "  return (1/2)*(x+S/x)\n",
        "\n",
        "#Implementing fixed point method\n",
        "\n",
        "def fixedPointIteration(x0, e, N):\n",
        "  print('\\n\\n*** FIXED POINT ITERATION ***')\n",
        "  step=1\n",
        "  flag=1\n",
        "  condition=True\n",
        "  while condition:\n",
        "    x1=g(x0)\n",
        "    print('Iteration-%d, x1 = %0.6f and f(x1)= %0.6f' %(step, x1, f(x1)))\n",
        "    x0=x1\n",
        "\n",
        "    step=step+1\n",
        "\n",
        "    if step>N:\n",
        "      flag=0\n",
        "      break\n",
        "    condition = abs(f(x1))>e\n",
        "\n",
        "  if flag==1:\n",
        "    print('\\nRequired root is : %0.8f' %x1)\n",
        "  else :\n",
        "    print('\\nNot convergent')\n",
        "\n",
        "#Input section \n",
        "x0 = input('Enter Guess:')\n",
        "e= input('Tolerable error:')\n",
        "N= input('Maximum Step:')\n",
        "  \n",
        "#Converting x0 and e to float\n",
        "x0=float(x0)\n",
        "e=float(e)\n",
        "\n",
        "#Converting N to integer\n",
        "N= int(N)\n",
        "\n",
        "#Starting fixed point iteration\n",
        "fixedPointIteration(x0,e,N)\n"
      ],
      "execution_count": 2,
      "outputs": [
        {
          "output_type": "stream",
          "text": [
            "Enter Guess:3\n",
            "Tolerable error:0.000001\n",
            "Maximum Step:10\n",
            "\n",
            "\n",
            "*** FIXED POINT ITERATION ***\n",
            "Iteration-1, x1 = 2.833333 and f(x1)= 0.027778\n",
            "Iteration-2, x1 = 2.828431 and f(x1)= 0.000024\n",
            "Iteration-3, x1 = 2.828427 and f(x1)= 0.000000\n",
            "\n",
            "Required root is : 2.82842712\n"
          ],
          "name": "stdout"
        }
      ]
    }
  ]
}